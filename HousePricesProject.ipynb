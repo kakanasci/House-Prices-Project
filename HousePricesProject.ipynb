{
  "cells": [
    {
      "cell_type": "markdown",
      "metadata": {
        "id": "view-in-github",
        "colab_type": "text"
      },
      "source": [
        "<a href=\"https://colab.research.google.com/github/kakanasci/House-Prices-Project/blob/main/HousePricesProject.ipynb\" target=\"_parent\"><img src=\"https://colab.research.google.com/assets/colab-badge.svg\" alt=\"Open In Colab\"/></a>"
      ]
    },
    {
      "cell_type": "markdown",
      "id": "9ab1f7a6",
      "metadata": {
        "id": "9ab1f7a6"
      },
      "source": [
        "# Projeto Completo de Data Science: EDA, Engenharia de Features e Modelagem Preditiva (House Prices Kaggle)"
      ]
    },
    {
      "cell_type": "code",
      "source": [
        "#Importando bibliotecas\n",
        "\n",
        "import pandas as pd\n",
        "import numpy as np\n",
        "import xgboost as xgb\n",
        "import matplotlib.pyplot as plt\n",
        "import seaborn as sns\n",
        "from sklearn.metrics import mean_squared_error\n",
        "from sklearn.model_selection import KFold, cross_val_score"
      ],
      "metadata": {
        "id": "j2_1K-g1N7AA"
      },
      "id": "j2_1K-g1N7AA",
      "execution_count": 27,
      "outputs": []
    },
    {
      "cell_type": "markdown",
      "source": [
        "## CONFIGURAÇÃO DE VISUALIZAÇÃO"
      ],
      "metadata": {
        "id": "3d8ByRBbqQgK"
      },
      "id": "3d8ByRBbqQgK"
    },
    {
      "cell_type": "code",
      "source": [
        "#Aplicar um tema limpo e profissional aos gráficos\n",
        "sns.set_style(\"whitegrid\")\n",
        "plt.rcParams['figure.figsize'] = [10, 6]"
      ],
      "metadata": {
        "id": "Ker3KAfdqS0B"
      },
      "id": "Ker3KAfdqS0B",
      "execution_count": 28,
      "outputs": []
    },
    {
      "cell_type": "markdown",
      "source": [
        "## PREPARAÇÃO INICIAL DOS DADOS"
      ],
      "metadata": {
        "id": "ypNmZ9Hpi0fd"
      },
      "id": "ypNmZ9Hpi0fd"
    },
    {
      "cell_type": "code",
      "source": [
        "# Carregar meus datasets de treino e teste\n",
        "train = pd.read_csv('train.csv')\n",
        "test = pd.read_csv('test.csv')"
      ],
      "metadata": {
        "id": "1ME8hG9-O8OT"
      },
      "id": "1ME8hG9-O8OT",
      "execution_count": 29,
      "outputs": []
    },
    {
      "cell_type": "code",
      "source": [
        "# Preciso guardar o ID do dataset de teste separadamente. Ele será necessário\n",
        "# no final para gerar o arquivo de submissão do Kaggle.\n",
        "test_ID = test['Id']"
      ],
      "metadata": {
        "id": "7ADeKZ3VcJPc"
      },
      "id": "7ADeKZ3VcJPc",
      "execution_count": 30,
      "outputs": []
    },
    {
      "cell_type": "markdown",
      "source": [
        "## TRATAMENTO DA VARIÁVEL ALVO (SalePrice)"
      ],
      "metadata": {
        "id": "ZO3EPPghjJHD"
      },
      "id": "ZO3EPPghjJHD"
    },
    {
      "cell_type": "code",
      "source": [
        "# Isto normaliza a distribuição do preço e ajuda o modelo a focar em erros percentuais.\n",
        "y_train = np.log1p(train['SalePrice'])"
      ],
      "metadata": {
        "id": "DpDYugnDO9zL"
      },
      "id": "DpDYugnDO9zL",
      "execution_count": 31,
      "outputs": []
    },
    {
      "cell_type": "code",
      "source": [
        "# Removendo as colunas 'Id' e 'SalePrice' da base de treino, pois não são features.\n",
        "train = train.drop(['Id', 'SalePrice'], axis=1)\n",
        "\n",
        "# Removendo 'Id' do dataset de teste.\n",
        "test = test.drop('Id', axis=1)"
      ],
      "metadata": {
        "id": "MrwkkAVxO_UU"
      },
      "id": "MrwkkAVxO_UU",
      "execution_count": 32,
      "outputs": []
    },
    {
      "cell_type": "markdown",
      "source": [
        "## COMBINAÇÃO DE BASES"
      ],
      "metadata": {
        "id": "gq2vUbW3jcXi"
      },
      "id": "gq2vUbW3jcXi"
    },
    {
      "cell_type": "code",
      "source": [
        "# Vou concatenar as bases de treino e teste. O objetivo é garantir que qualquer\n",
        "# limpeza, imputação de dados faltantes ou engenharia de features que eu fizer\n",
        "# seja aplicada de forma idêntica e uniforme aos dois conjuntos.\n",
        "all_data = pd.concat((train, test)).reset_index(drop=True)\n",
        "\n",
        "print(f\"Bases combinadas com sucesso. Novo shape: {all_data.shape}\")"
      ],
      "metadata": {
        "colab": {
          "base_uri": "https://localhost:8080/"
        },
        "id": "I_sLstXDPBad",
        "outputId": "cdeba5a3-6056-4af7-9350-bb6324d42ae5"
      },
      "id": "I_sLstXDPBad",
      "execution_count": 33,
      "outputs": [
        {
          "output_type": "stream",
          "name": "stdout",
          "text": [
            "Bases combinadas com sucesso. Novo shape: (2919, 79)\n"
          ]
        }
      ]
    },
    {
      "cell_type": "markdown",
      "source": [
        "## VISUALIZAÇÃO DE DADOS FALTANTES"
      ],
      "metadata": {
        "id": "izGbnAc_rAYG"
      },
      "id": "izGbnAc_rAYG"
    },
    {
      "cell_type": "code",
      "source": [
        "# Calculamos o percentual de dados faltantes\n",
        "percent_missing = (all_data.isnull().sum() / all_data.isnull().count() * 100).sort_values(ascending=False)\n",
        "# Filtramos apenas as colunas com mais de 1% de dados faltando e mostramos as 10 principais\n",
        "missing_data = percent_missing[percent_missing > 1].head(10)\n",
        "\n",
        "plt.figure(figsize=(10, 5))\n",
        "sns.barplot(x=missing_data.index, y=missing_data.values, color='skyblue')\n",
        "# Rotação para rótulos longos, crucial para um gráfico limpo\n",
        "plt.xticks(rotation=45, ha='right')\n",
        "plt.title('Top 10 Colunas com Mais Valores Ausentes')\n",
        "plt.ylabel('Percentual Faltante (%)')\n",
        "plt.tight_layout()\n",
        "plt.show()"
      ],
      "metadata": {
        "colab": {
          "base_uri": "https://localhost:8080/",
          "height": 470
        },
        "id": "INpV4YFDq3jn",
        "outputId": "ddedc3c3-b4f7-4481-9aa8-801108ee4673"
      },
      "id": "INpV4YFDq3jn",
      "execution_count": 34,
      "outputs": [
        {
          "output_type": "display_data",
          "data": {
            "text/plain": [
              "<Figure size 1000x500 with 1 Axes>"
            ],
            "image/png": "[encoded data removed]"
          },
          "metadata": {}
        }
      ]
    },
    {
      "cell_type": "markdown",
      "source": [
        "## Limpeza Lógica de Dados e Engenharia de Recursos"
      ],
      "metadata": {
        "id": "d0PBD2i0koNO"
      },
      "id": "d0PBD2i0koNO"
    },
    {
      "cell_type": "code",
      "source": [
        "# Criei uma lista de colunas onde a ausência de valor ('NaN') indica a AUSÊNCIA do recurso.\n",
        "# Para o modelo, é melhor que isso seja uma categoria 'None' do que um valor nulo.\n",
        "cols_com_none = ['PoolQC', 'MiscFeature', 'Alley', 'Fence', 'FireplaceQu',\n",
        "                 'GarageType', 'GarageFinish', 'GarageQual', 'GarageCond',\n",
        "                 'BsmtQual', 'BsmtCond', 'BsmtExposure', 'BsmtFinType1',\n",
        "                 'BsmtFinType2', 'MasVnrType', 'MSZoning', 'Utilities',\n",
        "                 'Functional', 'KitchenQual', 'SaleType', 'Exterior1st',\n",
        "                 'Exterior2nd', 'Electrical']\n",
        "\n",
        "for col in cols_com_none:\n",
        "    if col in all_data.columns:\n",
        "        all_data[col] = all_data[col].fillna('None')"
      ],
      "metadata": {
        "id": "uaM0tqv0PBZb"
      },
      "id": "uaM0tqv0PBZb",
      "execution_count": 35,
      "outputs": []
    },
    {
      "cell_type": "code",
      "source": [
        "# Para as colunas de área ou contagem, se o recurso for ausente, a área/contagem é zero.\n",
        "# Por exemplo, se não há garagem, a 'GarageArea' deve ser 0.\n",
        "cols_com_zero = ['GarageYrBlt', 'GarageArea', 'GarageCars', 'BsmtFinSF1',\n",
        "                 'BsmtFinSF2', 'BsmtUnfSF', 'TotalBsmtSF', 'BsmtFullBath',\n",
        "                 'BsmtHalfBath', 'MasVnrArea']\n",
        "\n",
        "for col in cols_com_zero:\n",
        "    if col in all_data.columns:\n",
        "        all_data[col] = all_data[col].fillna(0)"
      ],
      "metadata": {
        "id": "Vt0LbUwkPE7z"
      },
      "id": "Vt0LbUwkPE7z",
      "execution_count": 36,
      "outputs": []
    },
    {
      "cell_type": "code",
      "source": [
        "# O tamanho da fachada do lote ('LotFrontage') varia muito por localização.\n",
        "# Usar a média geral seria ruim. Decidi preencher os valores ausentes com a MEDIANA\n",
        "# específica do 'Neighborhood' (Bairro), o que é muito mais preciso.\n",
        "all_data['LotFrontage'] = all_data.groupby('Neighborhood')['LotFrontage'].transform(\n",
        "    lambda x: x.fillna(x.median())\n",
        ")"
      ],
      "metadata": {
        "id": "ETxdWmkNTPD3"
      },
      "id": "ETxdWmkNTPD3",
      "execution_count": 37,
      "outputs": []
    },
    {
      "cell_type": "code",
      "source": [
        "# Preenchendo com a Mediana por bairro\n",
        "all_data['LotFrontage'] = all_data.groupby('Neighborhood')['LotFrontage'].transform(\n",
        "    lambda x: x.fillna(x.median())\n",
        ")"
      ],
      "metadata": {
        "id": "_z0_6FX-Tk4L"
      },
      "id": "_z0_6FX-Tk4L",
      "execution_count": 38,
      "outputs": []
    },
    {
      "cell_type": "markdown",
      "source": [
        "## Engenharia de Recursos Essenciais"
      ],
      "metadata": {
        "id": "aENfINK2Ts0j"
      },
      "id": "aENfINK2Ts0j"
    },
    {
      "cell_type": "code",
      "source": [
        "# Área Total da Casa ('TotalSF')\n",
        "# Criei a feature 'TotalSF' porque a área total (subsolo + 1º + 2º andar) é o preditor\n",
        "# mais importante e uma combinação mais poderosa do que as áreas separadas.\n",
        "all_data['TotalSF'] = all_data['TotalBsmtSF'] + all_data['1stFlrSF'] + all_data['2ndFlrSF']"
      ],
      "metadata": {
        "id": "01lzYzmPTvHC"
      },
      "id": "01lzYzmPTvHC",
      "execution_count": 39,
      "outputs": []
    },
    {
      "cell_type": "code",
      "source": [
        "# Idade da Casa ('Age')\n",
        "# Calculei a idade da casa, subtraindo o ano de construção do ano da venda.\n",
        "# A idade é muitas vezes mais relevante que os anos absolutos.\n",
        "all_data['Age'] = all_data['YrSold'] - all_data['YearBuilt']"
      ],
      "metadata": {
        "id": "gGKKkLmjT0JC"
      },
      "id": "gGKKkLmjT0JC",
      "execution_count": 40,
      "outputs": []
    },
    {
      "cell_type": "code",
      "source": [
        "# Transformando Numéricas Ordinais em Categóricas\n",
        "# Variáveis como 'OverallQual' (Qualidade Geral) são ratings numéricos,\n",
        "# mas para o modelo de árvore, tratá-las como categorias separadas (strings)\n",
        "# permite que ele capture melhor a relação não-linear com o preço.\n",
        "all_data['MSSubClass'] = all_data['MSSubClass'].astype(str)\n",
        "all_data['OverallQual'] = all_data['OverallQual'].astype(str)\n",
        "all_data['OverallCond'] = all_data['OverallCond'].astype(str)\n",
        "all_data['MoSold'] = all_data['MoSold'].astype(str)"
      ],
      "metadata": {
        "id": "56ywj4hKT2l6"
      },
      "id": "56ywj4hKT2l6",
      "execution_count": 41,
      "outputs": []
    },
    {
      "cell_type": "markdown",
      "source": [
        "## Codificação de Variáveis e Divisão Final"
      ],
      "metadata": {
        "id": "CEpBemuCT7ca"
      },
      "id": "CEpBemuCT7ca"
    },
    {
      "cell_type": "code",
      "source": [
        "# Aplicando One-Hot Encoding em todas as variáveis categóricas.\n",
        "# Isso transforma as strings em colunas binárias (0 ou 1) que o modelo pode processar.\n",
        "all_data = pd.get_dummies(all_data)\n",
        "\n",
        "# Re-dividir os dados de volta em Treino (com SalePrice) e Teste (para prever).\n",
        "# Uso o comprimento (len) do 'y_train' original como ponto de corte.\n",
        "X_train = all_data[:len(y_train)]\n",
        "X_test = all_data[len(y_train):]\n",
        "\n",
        "print(f\"Pré-processamento concluído. Dataset de treino final shape: {X_train.shape}\")"
      ],
      "metadata": {
        "colab": {
          "base_uri": "https://localhost:8080/"
        },
        "id": "ST4qQAqMT4tS",
        "outputId": "7fff8452-2c40-4c0d-a35a-ac8fbc7f893b"
      },
      "id": "ST4qQAqMT4tS",
      "execution_count": 42,
      "outputs": [
        {
          "output_type": "stream",
          "name": "stdout",
          "text": [
            "Pré-processamento concluído. Dataset de treino final shape: (1460, 355)\n"
          ]
        }
      ]
    },
    {
      "cell_type": "markdown",
      "source": [
        "## Modelagem com XGBoost e Previsão"
      ],
      "metadata": {
        "id": "PetPLSQjUGi5"
      },
      "id": "PetPLSQjUGi5"
    },
    {
      "cell_type": "code",
      "source": [
        "# Escolhi o XGBoost por ser um algoritmo de Gradient Boosting que é excelente\n",
        "# para dados tabulares e alcança alta performance.\n",
        "xgb_reg = xgb.XGBRegressor(\n",
        "    n_estimators=1000,\n",
        "    learning_rate=0.05,\n",
        "    max_depth=3,\n",
        "    subsample=0.7,\n",
        "    colsample_bytree=0.7,\n",
        "    random_state=42,\n",
        "    objective='reg:squarederror'\n",
        ")"
      ],
      "metadata": {
        "id": "de_ZaOXnUH8q"
      },
      "id": "de_ZaOXnUH8q",
      "execution_count": 43,
      "outputs": []
    },
    {
      "cell_type": "code",
      "source": [
        "# Treinando o modelo com os dados pré-processados\n",
        "print(\"\\nTreinando o modelo XGBoost...\")\n",
        "xgb_reg.fit(X_train, y_train)"
      ],
      "metadata": {
        "colab": {
          "base_uri": "https://localhost:8080/",
          "height": 289
        },
        "id": "9gOcaWYuUQK5",
        "outputId": "297a8e2c-fbe0-42cd-f30d-c53d6f754cad"
      },
      "id": "9gOcaWYuUQK5",
      "execution_count": 44,
      "outputs": [
        {
          "output_type": "stream",
          "name": "stdout",
          "text": [
            "\n",
            "Treinando o modelo XGBoost...\n"
          ]
        },
        {
          "output_type": "execute_result",
          "data": {
            "text/plain": [
              "XGBRegressor(base_score=None, booster=None, callbacks=None,\n",
              "             colsample_bylevel=None, colsample_bynode=None,\n",
              "             colsample_bytree=0.7, device=None, early_stopping_rounds=None,\n",
              "             enable_categorical=False, eval_metric=None, feature_types=None,\n",
              "             feature_weights=None, gamma=None, grow_policy=None,\n",
              "             importance_type=None, interaction_constraints=None,\n",
              "             learning_rate=0.05, max_bin=None, max_cat_threshold=None,\n",
              "             max_cat_to_onehot=None, max_delta_step=None, max_depth=3,\n",
              "             max_leaves=None, min_child_weight=None, missing=nan,\n",
              "             monotone_constraints=None, multi_strategy=None, n_estimators=1000,\n",
              "             n_jobs=None, num_parallel_tree=None, ...)"
            ],
            "text/html": [
              "<style>#sk-container-id-2 {\n",
              "  /* Definition of color scheme common for light and dark mode */\n",
              "  --sklearn-color-text: #000;\n",
              "  --sklearn-color-text-muted: #666;\n",
              "  --sklearn-color-line: gray;\n",
              "  /* Definition of color scheme for unfitted estimators */\n",
              "  --sklearn-color-unfitted-level-0: #fff5e6;\n",
              "  --sklearn-color-unfitted-level-1: #f6e4d2;\n",
              "  --sklearn-color-unfitted-level-2: #ffe0b3;\n",
              "  --sklearn-color-unfitted-level-3: chocolate;\n",
              "  /* Definition of color scheme for fitted estimators */\n",
              "  --sklearn-color-fitted-level-0: #f0f8ff;\n",
              "  --sklearn-color-fitted-level-1: #d4ebff;\n",
              "  --sklearn-color-fitted-level-2: #b3dbfd;\n",
              "  --sklearn-color-fitted-level-3: cornflowerblue;\n",
              "\n",
              "  /* Specific color for light theme */\n",
              "  --sklearn-color-text-on-default-background: var(--sg-text-color, var(--theme-code-foreground, var(--jp-content-font-color1, black)));\n",
              "  --sklearn-color-background: var(--sg-background-color, var(--theme-background, var(--jp-layout-color0, white)));\n",
              "  --sklearn-color-border-box: var(--sg-text-color, var(--theme-code-foreground, var(--jp-content-font-color1, black)));\n",
              "  --sklearn-color-icon: #696969;\n",
              "\n",
              "  @media (prefers-color-scheme: dark) {\n",
              "    /* Redefinition of color scheme for dark theme */\n",
              "    --sklearn-color-text-on-default-background: var(--sg-text-color, var(--theme-code-foreground, var(--jp-content-font-color1, white)));\n",
              "    --sklearn-color-background: var(--sg-background-color, var(--theme-background, var(--jp-layout-color0, #111)));\n",
              "    --sklearn-color-border-box: var(--sg-text-color, var(--theme-code-foreground, var(--jp-content-font-color1, white)));\n",
              "    --sklearn-color-icon: #878787;\n",
              "  }\n",
              "}\n",
              "\n",
              "#sk-container-id-2 {\n",
              "  color: var(--sklearn-color-text);\n",
              "}\n",
              "\n",
              "#sk-container-id-2 pre {\n",
              "  padding: 0;\n",
              "}\n",
              "\n",
              "#sk-container-id-2 input.sk-hidden--visually {\n",
              "  border: 0;\n",
              "  clip: rect(1px 1px 1px 1px);\n",
              "  clip: rect(1px, 1px, 1px, 1px);\n",
              "  height: 1px;\n",
              "  margin: -1px;\n",
              "  overflow: hidden;\n",
              "  padding: 0;\n",
              "  position: absolute;\n",
              "  width: 1px;\n",
              "}\n",
              "\n",
              "#sk-container-id-2 div.sk-dashed-wrapped {\n",
              "  border: 1px dashed var(--sklearn-color-line);\n",
              "  margin: 0 0.4em 0.5em 0.4em;\n",
              "  box-sizing: border-box;\n",
              "  padding-bottom: 0.4em;\n",
              "  background-color: var(--sklearn-color-background);\n",
              "}\n",
              "\n",
              "#sk-container-id-2 div.sk-container {\n",
              "  /* jupyter's `normalize.less` sets `[hidden] { display: none; }`\n",
              "     but bootstrap.min.css set `[hidden] { display: none !important; }`\n",
              "     so we also need the `!important` here to be able to override the\n",
              "     default hidden behavior on the sphinx rendered scikit-learn.org.\n",
              "     See: https://github.com/scikit-learn/scikit-learn/issues/21755 */\n",
              "  display: inline-block !important;\n",
              "  position: relative;\n",
              "}\n",
              "\n",
              "#sk-container-id-2 div.sk-text-repr-fallback {\n",
              "  display: none;\n",
              "}\n",
              "\n",
              "div.sk-parallel-item,\n",
              "div.sk-serial,\n",
              "div.sk-item {\n",
              "  /* draw centered vertical line to link estimators */\n",
              "  background-image: linear-gradient(var(--sklearn-color-text-on-default-background), var(--sklearn-color-text-on-default-background));\n",
              "  background-size: 2px 100%;\n",
              "  background-repeat: no-repeat;\n",
              "  background-position: center center;\n",
              "}\n",
              "\n",
              "/* Parallel-specific style estimator block */\n",
              "\n",
              "#sk-container-id-2 div.sk-parallel-item::after {\n",
              "  content: \"\";\n",
              "  width: 100%;\n",
              "  border-bottom: 2px solid var(--sklearn-color-text-on-default-background);\n",
              "  flex-grow: 1;\n",
              "}\n",
              "\n",
              "#sk-container-id-2 div.sk-parallel {\n",
              "  display: flex;\n",
              "  align-items: stretch;\n",
              "  justify-content: center;\n",
              "  background-color: var(--sklearn-color-background);\n",
              "  position: relative;\n",
              "}\n",
              "\n",
              "#sk-container-id-2 div.sk-parallel-item {\n",
              "  display: flex;\n",
              "  flex-direction: column;\n",
              "}\n",
              "\n",
              "#sk-container-id-2 div.sk-parallel-item:first-child::after {\n",
              "  align-self: flex-end;\n",
              "  width: 50%;\n",
              "}\n",
              "\n",
              "#sk-container-id-2 div.sk-parallel-item:last-child::after {\n",
              "  align-self: flex-start;\n",
              "  width: 50%;\n",
              "}\n",
              "\n",
              "#sk-container-id-2 div.sk-parallel-item:only-child::after {\n",
              "  width: 0;\n",
              "}\n",
              "\n",
              "/* Serial-specific style estimator block */\n",
              "\n",
              "#sk-container-id-2 div.sk-serial {\n",
              "  display: flex;\n",
              "  flex-direction: column;\n",
              "  align-items: center;\n",
              "  background-color: var(--sklearn-color-background);\n",
              "  padding-right: 1em;\n",
              "  padding-left: 1em;\n",
              "}\n",
              "\n",
              "\n",
              "/* Toggleable style: style used for estimator/Pipeline/ColumnTransformer box that is\n",
              "clickable and can be expanded/collapsed.\n",
              "- Pipeline and ColumnTransformer use this feature and define the default style\n",
              "- Estimators will overwrite some part of the style using the `sk-estimator` class\n",
              "*/\n",
              "\n",
              "/* Pipeline and ColumnTransformer style (default) */\n",
              "\n",
              "#sk-container-id-2 div.sk-toggleable {\n",
              "  /* Default theme specific background. It is overwritten whether we have a\n",
              "  specific estimator or a Pipeline/ColumnTransformer */\n",
              "  background-color: var(--sklearn-color-background);\n",
              "}\n",
              "\n",
              "/* Toggleable label */\n",
              "#sk-container-id-2 label.sk-toggleable__label {\n",
              "  cursor: pointer;\n",
              "  display: flex;\n",
              "  width: 100%;\n",
              "  margin-bottom: 0;\n",
              "  padding: 0.5em;\n",
              "  box-sizing: border-box;\n",
              "  text-align: center;\n",
              "  align-items: start;\n",
              "  justify-content: space-between;\n",
              "  gap: 0.5em;\n",
              "}\n",
              "\n",
              "#sk-container-id-2 label.sk-toggleable__label .caption {\n",
              "  font-size: 0.6rem;\n",
              "  font-weight: lighter;\n",
              "  color: var(--sklearn-color-text-muted);\n",
              "}\n",
              "\n",
              "#sk-container-id-2 label.sk-toggleable__label-arrow:before {\n",
              "  /* Arrow on the left of the label */\n",
              "  content: \"▸\";\n",
              "  float: left;\n",
              "  margin-right: 0.25em;\n",
              "  color: var(--sklearn-color-icon);\n",
              "}\n",
              "\n",
              "#sk-container-id-2 label.sk-toggleable__label-arrow:hover:before {\n",
              "  color: var(--sklearn-color-text);\n",
              "}\n",
              "\n",
              "/* Toggleable content - dropdown */\n",
              "\n",
              "#sk-container-id-2 div.sk-toggleable__content {\n",
              "  max-height: 0;\n",
              "  max-width: 0;\n",
              "  overflow: hidden;\n",
              "  text-align: left;\n",
              "  /* unfitted */\n",
              "  background-color: var(--sklearn-color-unfitted-level-0);\n",
              "}\n",
              "\n",
              "#sk-container-id-2 div.sk-toggleable__content.fitted {\n",
              "  /* fitted */\n",
              "  background-color: var(--sklearn-color-fitted-level-0);\n",
              "}\n",
              "\n",
              "#sk-container-id-2 div.sk-toggleable__content pre {\n",
              "  margin: 0.2em;\n",
              "  border-radius: 0.25em;\n",
              "  color: var(--sklearn-color-text);\n",
              "  /* unfitted */\n",
              "  background-color: var(--sklearn-color-unfitted-level-0);\n",
              "}\n",
              "\n",
              "#sk-container-id-2 div.sk-toggleable__content.fitted pre {\n",
              "  /* unfitted */\n",
              "  background-color: var(--sklearn-color-fitted-level-0);\n",
              "}\n",
              "\n",
              "#sk-container-id-2 input.sk-toggleable__control:checked~div.sk-toggleable__content {\n",
              "  /* Expand drop-down */\n",
              "  max-height: 200px;\n",
              "  max-width: 100%;\n",
              "  overflow: auto;\n",
              "}\n",
              "\n",
              "#sk-container-id-2 input.sk-toggleable__control:checked~label.sk-toggleable__label-arrow:before {\n",
              "  content: \"▾\";\n",
              "}\n",
              "\n",
              "/* Pipeline/ColumnTransformer-specific style */\n",
              "\n",
              "#sk-container-id-2 div.sk-label input.sk-toggleable__control:checked~label.sk-toggleable__label {\n",
              "  color: var(--sklearn-color-text);\n",
              "  background-color: var(--sklearn-color-unfitted-level-2);\n",
              "}\n",
              "\n",
              "#sk-container-id-2 div.sk-label.fitted input.sk-toggleable__control:checked~label.sk-toggleable__label {\n",
              "  background-color: var(--sklearn-color-fitted-level-2);\n",
              "}\n",
              "\n",
              "/* Estimator-specific style */\n",
              "\n",
              "/* Colorize estimator box */\n",
              "#sk-container-id-2 div.sk-estimator input.sk-toggleable__control:checked~label.sk-toggleable__label {\n",
              "  /* unfitted */\n",
              "  background-color: var(--sklearn-color-unfitted-level-2);\n",
              "}\n",
              "\n",
              "#sk-container-id-2 div.sk-estimator.fitted input.sk-toggleable__control:checked~label.sk-toggleable__label {\n",
              "  /* fitted */\n",
              "  background-color: var(--sklearn-color-fitted-level-2);\n",
              "}\n",
              "\n",
              "#sk-container-id-2 div.sk-label label.sk-toggleable__label,\n",
              "#sk-container-id-2 div.sk-label label {\n",
              "  /* The background is the default theme color */\n",
              "  color: var(--sklearn-color-text-on-default-background);\n",
              "}\n",
              "\n",
              "/* On hover, darken the color of the background */\n",
              "#sk-container-id-2 div.sk-label:hover label.sk-toggleable__label {\n",
              "  color: var(--sklearn-color-text);\n",
              "  background-color: var(--sklearn-color-unfitted-level-2);\n",
              "}\n",
              "\n",
              "/* Label box, darken color on hover, fitted */\n",
              "#sk-container-id-2 div.sk-label.fitted:hover label.sk-toggleable__label.fitted {\n",
              "  color: var(--sklearn-color-text);\n",
              "  background-color: var(--sklearn-color-fitted-level-2);\n",
              "}\n",
              "\n",
              "/* Estimator label */\n",
              "\n",
              "#sk-container-id-2 div.sk-label label {\n",
              "  font-family: monospace;\n",
              "  font-weight: bold;\n",
              "  display: inline-block;\n",
              "  line-height: 1.2em;\n",
              "}\n",
              "\n",
              "#sk-container-id-2 div.sk-label-container {\n",
              "  text-align: center;\n",
              "}\n",
              "\n",
              "/* Estimator-specific */\n",
              "#sk-container-id-2 div.sk-estimator {\n",
              "  font-family: monospace;\n",
              "  border: 1px dotted var(--sklearn-color-border-box);\n",
              "  border-radius: 0.25em;\n",
              "  box-sizing: border-box;\n",
              "  margin-bottom: 0.5em;\n",
              "  /* unfitted */\n",
              "  background-color: var(--sklearn-color-unfitted-level-0);\n",
              "}\n",
              "\n",
              "#sk-container-id-2 div.sk-estimator.fitted {\n",
              "  /* fitted */\n",
              "  background-color: var(--sklearn-color-fitted-level-0);\n",
              "}\n",
              "\n",
              "/* on hover */\n",
              "#sk-container-id-2 div.sk-estimator:hover {\n",
              "  /* unfitted */\n",
              "  background-color: var(--sklearn-color-unfitted-level-2);\n",
              "}\n",
              "\n",
              "#sk-container-id-2 div.sk-estimator.fitted:hover {\n",
              "  /* fitted */\n",
              "  background-color: var(--sklearn-color-fitted-level-2);\n",
              "}\n",
              "\n",
              "/* Specification for estimator info (e.g. \"i\" and \"?\") */\n",
              "\n",
              "/* Common style for \"i\" and \"?\" */\n",
              "\n",
              ".sk-estimator-doc-link,\n",
              "a:link.sk-estimator-doc-link,\n",
              "a:visited.sk-estimator-doc-link {\n",
              "  float: right;\n",
              "  font-size: smaller;\n",
              "  line-height: 1em;\n",
              "  font-family: monospace;\n",
              "  background-color: var(--sklearn-color-background);\n",
              "  border-radius: 1em;\n",
              "  height: 1em;\n",
              "  width: 1em;\n",
              "  text-decoration: none !important;\n",
              "  margin-left: 0.5em;\n",
              "  text-align: center;\n",
              "  /* unfitted */\n",
              "  border: var(--sklearn-color-unfitted-level-1) 1pt solid;\n",
              "  color: var(--sklearn-color-unfitted-level-1);\n",
              "}\n",
              "\n",
              ".sk-estimator-doc-link.fitted,\n",
              "a:link.sk-estimator-doc-link.fitted,\n",
              "a:visited.sk-estimator-doc-link.fitted {\n",
              "  /* fitted */\n",
              "  border: var(--sklearn-color-fitted-level-1) 1pt solid;\n",
              "  color: var(--sklearn-color-fitted-level-1);\n",
              "}\n",
              "\n",
              "/* On hover */\n",
              "div.sk-estimator:hover .sk-estimator-doc-link:hover,\n",
              ".sk-estimator-doc-link:hover,\n",
              "div.sk-label-container:hover .sk-estimator-doc-link:hover,\n",
              ".sk-estimator-doc-link:hover {\n",
              "  /* unfitted */\n",
              "  background-color: var(--sklearn-color-unfitted-level-3);\n",
              "  color: var(--sklearn-color-background);\n",
              "  text-decoration: none;\n",
              "}\n",
              "\n",
              "div.sk-estimator.fitted:hover .sk-estimator-doc-link.fitted:hover,\n",
              ".sk-estimator-doc-link.fitted:hover,\n",
              "div.sk-label-container:hover .sk-estimator-doc-link.fitted:hover,\n",
              ".sk-estimator-doc-link.fitted:hover {\n",
              "  /* fitted */\n",
              "  background-color: var(--sklearn-color-fitted-level-3);\n",
              "  color: var(--sklearn-color-background);\n",
              "  text-decoration: none;\n",
              "}\n",
              "\n",
              "/* Span, style for the box shown on hovering the info icon */\n",
              ".sk-estimator-doc-link span {\n",
              "  display: none;\n",
              "  z-index: 9999;\n",
              "  position: relative;\n",
              "  font-weight: normal;\n",
              "  right: .2ex;\n",
              "  padding: .5ex;\n",
              "  margin: .5ex;\n",
              "  width: min-content;\n",
              "  min-width: 20ex;\n",
              "  max-width: 50ex;\n",
              "  color: var(--sklearn-color-text);\n",
              "  box-shadow: 2pt 2pt 4pt #999;\n",
              "  /* unfitted */\n",
              "  background: var(--sklearn-color-unfitted-level-0);\n",
              "  border: .5pt solid var(--sklearn-color-unfitted-level-3);\n",
              "}\n",
              "\n",
              ".sk-estimator-doc-link.fitted span {\n",
              "  /* fitted */\n",
              "  background: var(--sklearn-color-fitted-level-0);\n",
              "  border: var(--sklearn-color-fitted-level-3);\n",
              "}\n",
              "\n",
              ".sk-estimator-doc-link:hover span {\n",
              "  display: block;\n",
              "}\n",
              "\n",
              "/* \"?\"-specific style due to the `<a>` HTML tag */\n",
              "\n",
              "#sk-container-id-2 a.estimator_doc_link {\n",
              "  float: right;\n",
              "  font-size: 1rem;\n",
              "  line-height: 1em;\n",
              "  font-family: monospace;\n",
              "  background-color: var(--sklearn-color-background);\n",
              "  border-radius: 1rem;\n",
              "  height: 1rem;\n",
              "  width: 1rem;\n",
              "  text-decoration: none;\n",
              "  /* unfitted */\n",
              "  color: var(--sklearn-color-unfitted-level-1);\n",
              "  border: var(--sklearn-color-unfitted-level-1) 1pt solid;\n",
              "}\n",
              "\n",
              "#sk-container-id-2 a.estimator_doc_link.fitted {\n",
              "  /* fitted */\n",
              "  border: var(--sklearn-color-fitted-level-1) 1pt solid;\n",
              "  color: var(--sklearn-color-fitted-level-1);\n",
              "}\n",
              "\n",
              "/* On hover */\n",
              "#sk-container-id-2 a.estimator_doc_link:hover {\n",
              "  /* unfitted */\n",
              "  background-color: var(--sklearn-color-unfitted-level-3);\n",
              "  color: var(--sklearn-color-background);\n",
              "  text-decoration: none;\n",
              "}\n",
              "\n",
              "#sk-container-id-2 a.estimator_doc_link.fitted:hover {\n",
              "  /* fitted */\n",
              "  background-color: var(--sklearn-color-fitted-level-3);\n",
              "}\n",
              "</style><div id=\"sk-container-id-2\" class=\"sk-top-container\"><div class=\"sk-text-repr-fallback\"><pre>XGBRegressor(base_score=None, booster=None, callbacks=None,\n",
              "             colsample_bylevel=None, colsample_bynode=None,\n",
              "             colsample_bytree=0.7, device=None, early_stopping_rounds=None,\n",
              "             enable_categorical=False, eval_metric=None, feature_types=None,\n",
              "             feature_weights=None, gamma=None, grow_policy=None,\n",
              "             importance_type=None, interaction_constraints=None,\n",
              "             learning_rate=0.05, max_bin=None, max_cat_threshold=None,\n",
              "             max_cat_to_onehot=None, max_delta_step=None, max_depth=3,\n",
              "             max_leaves=None, min_child_weight=None, missing=nan,\n",
              "             monotone_constraints=None, multi_strategy=None, n_estimators=1000,\n",
              "             n_jobs=None, num_parallel_tree=None, ...)</pre><b>In a Jupyter environment, please rerun this cell to show the HTML representation or trust the notebook. <br />On GitHub, the HTML representation is unable to render, please try loading this page with nbviewer.org.</b></div><div class=\"sk-container\" hidden><div class=\"sk-item\"><div class=\"sk-estimator fitted sk-toggleable\"><input class=\"sk-toggleable__control sk-hidden--visually\" id=\"sk-estimator-id-2\" type=\"checkbox\" checked><label for=\"sk-estimator-id-2\" class=\"sk-toggleable__label fitted sk-toggleable__label-arrow\"><div><div>XGBRegressor</div></div><div><a class=\"sk-estimator-doc-link fitted\" rel=\"noreferrer\" target=\"_blank\" href=\"https://xgboost.readthedocs.io/en/release_3.0.0/python/python_api.html#xgboost.XGBRegressor\">?<span>Documentation for XGBRegressor</span></a><span class=\"sk-estimator-doc-link fitted\">i<span>Fitted</span></span></div></label><div class=\"sk-toggleable__content fitted\"><pre>XGBRegressor(base_score=None, booster=None, callbacks=None,\n",
              "             colsample_bylevel=None, colsample_bynode=None,\n",
              "             colsample_bytree=0.7, device=None, early_stopping_rounds=None,\n",
              "             enable_categorical=False, eval_metric=None, feature_types=None,\n",
              "             feature_weights=None, gamma=None, grow_policy=None,\n",
              "             importance_type=None, interaction_constraints=None,\n",
              "             learning_rate=0.05, max_bin=None, max_cat_threshold=None,\n",
              "             max_cat_to_onehot=None, max_delta_step=None, max_depth=3,\n",
              "             max_leaves=None, min_child_weight=None, missing=nan,\n",
              "             monotone_constraints=None, multi_strategy=None, n_estimators=1000,\n",
              "             n_jobs=None, num_parallel_tree=None, ...)</pre></div> </div></div></div></div>"
            ]
          },
          "metadata": {},
          "execution_count": 44
        }
      ]
    },
    {
      "cell_type": "markdown",
      "source": [
        "## VALIDAÇÃO CRUZADA (CV)\n"
      ],
      "metadata": {
        "id": "VzDJdZLYr1jd"
      },
      "id": "VzDJdZLYr1jd"
    },
    {
      "cell_type": "code",
      "source": [
        "def rmse_cv(model, X, y):\n",
        "    # Uso 5-Fold para uma avaliação robusta\n",
        "    kf = KFold(5, shuffle=True, random_state=42).get_n_splits(X.values)\n",
        "    # Calculando o RMSE na escala logarítmica (Métrica principal)\n",
        "    rmse = np.sqrt(-cross_val_score(model, X, y, scoring=\"neg_mean_squared_error\", cv=kf))\n",
        "    return(rmse)\n",
        "\n",
        "score = rmse_cv(xgb_reg, X_train, y_train)"
      ],
      "metadata": {
        "id": "5k9Wwy_Tr27l"
      },
      "id": "5k9Wwy_Tr27l",
      "execution_count": 45,
      "outputs": []
    },
    {
      "cell_type": "code",
      "source": [
        "print(f\"\\n-- Avaliação de Estabilidade (5-Fold Cross-Validation) --\")\n",
        "print(f\"Média do RMSE (log): {score.mean():.4f}\")\n",
        "print(f\"Desvio Padrão: {score.std():.4f} (Desvio baixo confirma modelo estável)\")"
      ],
      "metadata": {
        "colab": {
          "base_uri": "https://localhost:8080/"
        },
        "id": "sG7VP66rsBLj",
        "outputId": "843d6149-d28c-44a1-d875-9ca7bf774031"
      },
      "id": "sG7VP66rsBLj",
      "execution_count": 46,
      "outputs": [
        {
          "output_type": "stream",
          "name": "stdout",
          "text": [
            "\n",
            "-- Avaliação de Estabilidade (5-Fold Cross-Validation) --\n",
            "Média do RMSE (log): 0.1226\n",
            "Desvio Padrão: 0.0112 (Desvio baixo confirma modelo estável)\n"
          ]
        }
      ]
    },
    {
      "cell_type": "markdown",
      "source": [
        "## IMPORTÂNCIA DE FEATURES (Interpreta o Modelo)"
      ],
      "metadata": {
        "id": "hH5_K9CYsTwx"
      },
      "id": "hH5_K9CYsTwx"
    },
    {
      "cell_type": "code",
      "source": [
        "# Extraindo a importância das features e organizo\n",
        "importances = pd.Series(xgb_reg.feature_importances_, index=X_train.columns)\n",
        "top_10_features = importances.nlargest(10).sort_values()"
      ],
      "metadata": {
        "id": "XqhKxpxKsVhS"
      },
      "id": "XqhKxpxKsVhS",
      "execution_count": 47,
      "outputs": []
    },
    {
      "cell_type": "code",
      "source": [
        "plt.figure(figsize=(10, 6))\n",
        "# Gráfico de barras horizontal\n",
        "sns.barplot(x=top_10_features.values, y=top_10_features.index, color='darkorange')\n",
        "plt.title('Top 10 Features Mais Importantes para o Preço (XGBoost)')\n",
        "plt.xlabel('Importância (Gain)')\n",
        "plt.tight_layout()\n",
        "plt.show()"
      ],
      "metadata": {
        "colab": {
          "base_uri": "https://localhost:8080/",
          "height": 563
        },
        "id": "AA_wuD3asaSJ",
        "outputId": "b454bf75-63a3-4bf9-f47e-def732f62198"
      },
      "id": "AA_wuD3asaSJ",
      "execution_count": 48,
      "outputs": [
        {
          "output_type": "display_data",
          "data": {
            "text/plain": [
              "<Figure size 1000x600 with 1 Axes>"
            ],
            "image/png": "[encoded data removed]"
          },
          "metadata": {}
        }
      ]
    },
    {
      "cell_type": "markdown",
      "source": [
        "## PREVISÃO E EXPORTAÇÃO"
      ],
      "metadata": {
        "id": "OGX6hwHjoVbp"
      },
      "id": "OGX6hwHjoVbp"
    },
    {
      "cell_type": "code",
      "source": [
        "# Fazendo a previsão no conjunto de teste. O resultado ainda está na escala logarítmica.\n",
        "predictions_log = xgb_reg.predict(X_test)"
      ],
      "metadata": {
        "id": "DCjeW9e_UXpp"
      },
      "id": "DCjeW9e_UXpp",
      "execution_count": 49,
      "outputs": []
    },
    {
      "cell_type": "code",
      "source": [
        "# Revertendo a transformação logarítmica para obter os preços reais.\n",
        "# np.expm1 é a operação inversa de np.log1p.\n",
        "final_predictions = np.expm1(predictions_log)"
      ],
      "metadata": {
        "id": "bWIkexyqUhwg"
      },
      "id": "bWIkexyqUhwg",
      "execution_count": 50,
      "outputs": []
    },
    {
      "cell_type": "code",
      "source": [
        "# Criando o DataFrame de submissão no formato exigido pelo Kaggle ('Id' e 'SalePrice').\n",
        "submission = pd.DataFrame({\n",
        "    'Id': test_ID,\n",
        "    'SalePrice': final_predictions\n",
        "})"
      ],
      "metadata": {
        "id": "FqWI7IBxUmS_"
      },
      "id": "FqWI7IBxUmS_",
      "execution_count": 51,
      "outputs": []
    },
    {
      "cell_type": "code",
      "source": [
        "# Exportando para o arquivo .csv\n",
        "submission.to_csv('House_Prices_Resultado.csv', index=False)\n",
        "\n",
        "print(\"Arquivo de submissão criado:\")\n",
        "print(\"house_prices_Resultado.csv\")\n"
      ],
      "metadata": {
        "colab": {
          "base_uri": "https://localhost:8080/"
        },
        "id": "s5IXf-qlUquv",
        "outputId": "a274e978-5438-4a85-8b6b-4863818b6d48"
      },
      "id": "s5IXf-qlUquv",
      "execution_count": 52,
      "outputs": [
        {
          "output_type": "stream",
          "name": "stdout",
          "text": [
            "Arquivo de submissão criado:\n",
            "house_prices_Resultado.csv\n"
          ]
        }
      ]
    }
  ],
  "metadata": {
    "kernelspec": {
      "display_name": "Python 3 (ipykernel)",
      "language": "python",
      "name": "python3"
    },
    "language_info": {
      "codemirror_mode": {
        "name": "ipython",
        "version": 3
      },
      "file_extension": ".py",
      "mimetype": "text/x-python",
      "name": "python",
      "nbconvert_exporter": "python",
      "pygments_lexer": "ipython3",
      "version": "3.9.13"
    },
    "colab": {
      "provenance": [],
      "include_colab_link": true
    }
  },
  "nbformat": 4,
  "nbformat_minor": 5
}